{
 "cells": [
  {
   "cell_type": "markdown",
   "id": "jnZ8QkrAXKD0",
   "metadata": {
    "id": "jnZ8QkrAXKD0"
   },
   "source": [
    "# В этом ноутубке приведен процесс обучения контрольной и тестовой модели catboost, а также предобработка данных"
   ]
  },
  {
   "cell_type": "code",
   "execution_count": 1,
   "id": "yE0SbHB1PhYj",
   "metadata": {
    "colab": {
     "base_uri": "https://localhost:8080/"
    },
    "execution": {
     "iopub.execute_input": "2023-05-22T21:12:48.494252Z",
     "iopub.status.busy": "2023-05-22T21:12:48.493298Z",
     "iopub.status.idle": "2023-05-22T21:13:02.444947Z",
     "shell.execute_reply": "2023-05-22T21:13:02.443694Z",
     "shell.execute_reply.started": "2023-05-22T21:12:48.494196Z"
    },
    "id": "yE0SbHB1PhYj",
    "outputId": "5e60a0c9-9776-479d-af55-1de519447da7"
   },
   "outputs": [],
   "source": [
    "# !pip install  psycopg2-binary\n",
    "# import nltk\n",
    "# nltk.download('popular')"
   ]
  },
  {
   "cell_type": "code",
   "execution_count": 2,
   "id": "31f3a9e9",
   "metadata": {
    "execution": {
     "iopub.execute_input": "2023-05-22T21:13:02.449048Z",
     "iopub.status.busy": "2023-05-22T21:13:02.447804Z",
     "iopub.status.idle": "2023-05-22T21:13:03.527270Z",
     "shell.execute_reply": "2023-05-22T21:13:03.526040Z",
     "shell.execute_reply.started": "2023-05-22T21:13:02.449002Z"
    },
    "id": "31f3a9e9"
   },
   "outputs": [],
   "source": [
    "from transformers import AutoTokenizer \n",
    "from transformers import BertModel  \n",
    "from sklearn.decomposition import PCA\n",
    "from sklearn.cluster import KMeans, DBSCAN\n",
    "from sklearn.preprocessing import LabelEncoder\n",
    "import warnings \n",
    "import psycopg2\n",
    "import numpy as np\n",
    "import pandas as pd\n",
    "import seaborn as sns\n",
    "import matplotlib.pyplot as plt\n",
    "\n",
    "%matplotlib inline\n",
    "\n",
    "warnings.simplefilter('ignore')"
   ]
  },
  {
   "cell_type": "markdown",
   "id": "zhRKMnc2XKD9",
   "metadata": {
    "id": "zhRKMnc2XKD9"
   },
   "source": [
    "## Создаем подключение к базе данных"
   ]
  },
  {
   "cell_type": "code",
   "execution_count": 3,
   "id": "a18cce99",
   "metadata": {
    "execution": {
     "iopub.execute_input": "2023-05-22T21:13:03.529771Z",
     "iopub.status.busy": "2023-05-22T21:13:03.529401Z",
     "iopub.status.idle": "2023-05-22T21:13:06.317751Z",
     "shell.execute_reply": "2023-05-22T21:13:06.316667Z",
     "shell.execute_reply.started": "2023-05-22T21:13:03.529714Z"
    },
    "id": "a18cce99"
   },
   "outputs": [],
   "source": [
    "from sqlalchemy import Column, Integer, String, DateTime, create_engine, inspect\n",
    "from sqlalchemy.ext.declarative import declarative_base\n",
    "from sqlalchemy.orm import sessionmaker, Session\n",
    "\n",
    "DATABASE_URI = # URI ВАШЕЙ БД\n",
    "\n",
    "engine = create_engine(DATABASE_URI)\n",
    "\n",
    "inspector = inspect(engine) # чтобы подтянуть названия колонок\n",
    "\n",
    "SessionLocal = sessionmaker(autocommit=False, autoflush=False, bind=engine)\n",
    "\n",
    "Base = declarative_base()\n",
    "\n",
    "# создаем классы нашиих таблиц\n",
    "class User_data(Base):\n",
    "    __tablename__ = 'user_data'\n",
    "    user_id = Column(Integer,primary_key=True)\n",
    "    age = Column(Integer)\n",
    "    city = Column(String)\n",
    "    country = Column(String)\n",
    "    exp_group = Column(Integer)\n",
    "    gender = Column(String)\n",
    "    os = Column(String)\n",
    "    source = Column(String)\n",
    "\n",
    "class Post(Base):\n",
    "    __tablename__ = 'posts'\n",
    "    id = Column(Integer, primary_key=True)\n",
    "    text = Column(String)\n",
    "    topic = Column(String)\n",
    "\n",
    "class Feed_data(Base):\n",
    "    __tablename__ = 'feed_data'\n",
    "    timestamp = Column(DateTime, primary_key=True)\n",
    "    user_id = Column(Integer)\n",
    "    post_id = Column(Integer)\n",
    "    action = Column(String)\n",
    "    target = Column(Integer)\n",
    "\n",
    "if __name__ == \"__main__\":\n",
    "    Base.metadata.create_all(engine)\n"
   ]
  },
  {
   "cell_type": "markdown",
   "id": "yTp2nm_wXKD_",
   "metadata": {
    "id": "yTp2nm_wXKD_"
   },
   "source": [
    "## Создадим вспомогательные функции для выгрузки данных"
   ]
  },
  {
   "cell_type": "code",
   "execution_count": 4,
   "id": "Q6DVw8kh7yRq",
   "metadata": {
    "execution": {
     "iopub.execute_input": "2023-05-22T21:13:06.323010Z",
     "iopub.status.busy": "2023-05-22T21:13:06.322074Z",
     "iopub.status.idle": "2023-05-22T21:13:06.334041Z",
     "shell.execute_reply": "2023-05-22T21:13:06.332217Z",
     "shell.execute_reply.started": "2023-05-22T21:13:06.322965Z"
    },
    "id": "Q6DVw8kh7yRq"
   },
   "outputs": [],
   "source": [
    "\n",
    "def get_data_with_psycopg(query: str):\n",
    "    '''с помощью SQL запроса через библиотеку pcycopg2\n",
    "возвращает резульат запроса в виде numpy.ndarray'''\n",
    "\n",
    "    conn = psycopg2.connect(DATABASE_URI)\n",
    "    cursor = conn.cursor()\n",
    "    cursor.execute(query)\n",
    "    result = cursor.fetchall()\n",
    "    \n",
    "    columns = [desc[0] for desc in cursor.description]\n",
    "    \n",
    "    cursor.close()\n",
    "    conn.close()\n",
    "\n",
    "    return pd.DataFrame(data=result,\n",
    "                        columns=columns)\n",
    "\n",
    "def get_data_with_sqlalchemy(table_name: str, limit):\n",
    "    '''С помощью SQLAlchemy и указанием таблица и лимита\n",
    "возвращает таблицу из базы с заданным лимитом\n",
    "user_data\n",
    "posts\n",
    "feed_data'''\n",
    "\n",
    "    table_dict = {\n",
    "            'user_data': User_data,\n",
    "            'posts': Post,\n",
    "            'feed_data': Feed_data\n",
    "            }\n",
    "    table = table_dict[table_name]\n",
    "\n",
    "    with SessionLocal() as session:\n",
    "        data_from_db = session.query(table).limit(limit).all()\n",
    "\n",
    "    columns_name = [column['name'] for column in inspector.get_columns(table_name)]\n",
    "    \n",
    "    return pd.DataFrame([item.__dict__ for item in data_from_db])[columns_name]\n",
    "\n",
    "\n"
   ]
  },
  {
   "cell_type": "markdown",
   "id": "nBVfrz-gXKEC",
   "metadata": {
    "id": "nBVfrz-gXKEC"
   },
   "source": [
    "## Производим предобработку текстов"
   ]
  },
  {
   "cell_type": "code",
   "execution_count": 5,
   "id": "1XipGmzBXKED",
   "metadata": {
    "execution": {
     "iopub.status.busy": "2023-05-22T20:52:36.150726Z",
     "iopub.status.idle": "2023-05-22T20:52:36.151716Z",
     "shell.execute_reply": "2023-05-22T20:52:36.151418Z",
     "shell.execute_reply.started": "2023-05-22T20:52:36.151386Z"
    },
    "id": "1XipGmzBXKED"
   },
   "outputs": [],
   "source": [
    "# данные про посты\n",
    "posts_df = get_data_with_sqlalchemy('posts', 200000)"
   ]
  },
  {
   "cell_type": "code",
   "execution_count": 6,
   "id": "FJtxW7RyXKEE",
   "metadata": {
    "colab": {
     "base_uri": "https://localhost:8080/",
     "height": 105
    },
    "execution": {
     "iopub.status.busy": "2023-05-22T20:52:36.153468Z",
     "iopub.status.idle": "2023-05-22T20:52:36.154376Z",
     "shell.execute_reply": "2023-05-22T20:52:36.154067Z",
     "shell.execute_reply.started": "2023-05-22T20:52:36.154035Z"
    },
    "id": "FJtxW7RyXKEE",
    "outputId": "9c02c9fe-0275-4931-862c-eebe5e934efe"
   },
   "outputs": [
    {
     "data": {
      "application/vnd.google.colaboratory.intrinsic+json": {
       "type": "string"
      },
      "text/plain": [
       "'uk economy facing major risk uk manufacturing sector continue face serious challenge next two year british chamber commerce bcc said group quarterly survey company found export picked last three month best level eight year rise came despite exchange rate cited major concern however bcc found whole uk economy still faced major risk warned growth set slow recently forecast economic growth slow little manufacturer domestic sale growth fell back slightly quarter survey firm found employment manufacturing also fell job expectation lowest level year despite positive news export sector worrying sign manufacturing bcc said result reinforce concern sector persistent inability sustain recovery outlook service sector uncertain despite increase export order quarter bcc noted bcc found confidence increased quarter across manufacturing service sector although overall failed reach level start reduced threat interest rate increase contributed improved confidence said bank england raised interest rate five time november august last year rate kept hold since amid sign falling consumer confidence slowdown output pressure cost margin relentless increase regulation threat higher tax remain serious problem bcc director general david frost said consumer spending set decelerate significantly next month unlikely investment export rise sufficiently strongly pick slack'"
      ]
     },
     "execution_count": 6,
     "metadata": {},
     "output_type": "execute_result"
    }
   ],
   "source": [
    "import re\n",
    "from nltk.corpus import stopwords\n",
    "from nltk.stem import WordNetLemmatizer\n",
    "\n",
    "# Удаляем лишние символы\n",
    "def del_symbols(text):\n",
    "    text = text.replace('\\n\\n', ' ').replace('\\n', ' ') # заменяем символы переноса строки на пробел\n",
    "    text = re.sub(r'[^a-zA-Z\\s]', '', text) # убираем все символы кроме букв и пробелов\n",
    "    text = text.lower() # приводим к нижнему регистру\n",
    "    \n",
    "    return text\n",
    "    \n",
    "    \n",
    "posts_df['text'] = posts_df['text'].apply(del_symbols)\n",
    "\n",
    "# Удаляем стоп-слова\n",
    "stop_words = stopwords.words('english')\n",
    "\n",
    "def del_stopwords(text):\n",
    "    important_words = [word for word in text.split() if word not in stop_words]\n",
    "    \n",
    "    return ' '.join(important_words)\n",
    "\n",
    "\n",
    "posts_df['text'] = posts_df['text'].apply(del_stopwords)\n",
    "\n",
    "# Лемматизируем слова\n",
    "wnl = WordNetLemmatizer()\n",
    "\n",
    "def lemmatize(text):\n",
    "    lemm_words = [wnl.lemmatize(word) for word in text.split()]\n",
    "    \n",
    "    return ' '.join(lemm_words)\n",
    "\n",
    "posts_df['text'] = posts_df['text'].apply(lemmatize)\n",
    "\n",
    "posts_df['text'][0]"
   ]
  },
  {
   "cell_type": "code",
   "execution_count": 7,
   "id": "cCK7mvlAXKEG",
   "metadata": {
    "execution": {
     "iopub.status.busy": "2023-05-22T20:52:36.156058Z",
     "iopub.status.idle": "2023-05-22T20:52:36.157017Z",
     "shell.execute_reply": "2023-05-22T20:52:36.156723Z",
     "shell.execute_reply.started": "2023-05-22T20:52:36.156693Z"
    },
    "id": "cCK7mvlAXKEG"
   },
   "outputs": [],
   "source": [
    "del wnl, stop_words"
   ]
  },
  {
   "cell_type": "markdown",
   "id": "lmGhmqZt-urW",
   "metadata": {
    "id": "lmGhmqZt-urW"
   },
   "source": [
    "## Обучим две модели: \n",
    "* #### Kонтрольную - признаки для текстов генерируем из TF-IDF (кластеризация с помощью KMeans)\n",
    "* #### Тестовую - признаки для текстов получаем из ебмедингов (BERT, кластеризация через DBSCAN и KMeans + фичи из TF-IDF)"
   ]
  },
  {
   "cell_type": "markdown",
   "id": "HgPNZzeNXKEH",
   "metadata": {
    "id": "HgPNZzeNXKEH"
   },
   "source": [
    "### Генерируем признаки из TF-IDF"
   ]
  },
  {
   "cell_type": "code",
   "execution_count": null,
   "id": "cc9mqO4JXKEH",
   "metadata": {
    "colab": {
     "base_uri": "https://localhost:8080/"
    },
    "execution": {
     "iopub.execute_input": "2023-05-22T21:13:06.466632Z",
     "iopub.status.busy": "2023-05-22T21:13:06.466253Z",
     "iopub.status.idle": "2023-05-22T21:14:00.930602Z",
     "shell.execute_reply": "2023-05-22T21:14:00.929603Z",
     "shell.execute_reply.started": "2023-05-22T21:13:06.466581Z"
    },
    "id": "cc9mqO4JXKEH",
    "outputId": "60755a54-35f5-4382-d0ab-07b86b9cc14c"
   },
   "outputs": [
    {
     "data": {
      "text/plain": [
       "(7023, 50)"
      ]
     },
     "execution_count": 9,
     "metadata": {},
     "output_type": "execute_result"
    }
   ],
   "source": [
    "from sklearn.feature_extraction.text import TfidfVectorizer\n",
    "\n",
    "# начнем с более простой модели\n",
    "\n",
    "tf_idf = TfidfVectorizer().fit(posts_df['text'])\n",
    "\n",
    "# создаем tf-idf индексы для текстов \n",
    "tfidf_dataframe = pd.DataFrame(tf_idf.transform(posts_df['text']).todense(),\n",
    "                                columns=tf_idf.get_feature_names_out())\n",
    "\n",
    "centered = tfidf_dataframe - tfidf_dataframe.mean()\n",
    "\n",
    "# Уменьшаем размерность \n",
    "pca_from_tf_idf = PCA(n_components=50).fit_transform(centered)\n",
    "\n",
    "# Получем главные компоненты нашему датафрейму\n",
    "pca_from_tf_idf.shape"
   ]
  },
  {
   "cell_type": "code",
   "execution_count": null,
   "id": "l02YMScmaXVi",
   "metadata": {
    "execution": {
     "iopub.execute_input": "2023-05-22T21:14:00.933049Z",
     "iopub.status.busy": "2023-05-22T21:14:00.932612Z",
     "iopub.status.idle": "2023-05-22T21:14:01.038499Z",
     "shell.execute_reply": "2023-05-22T21:14:01.035656Z",
     "shell.execute_reply.started": "2023-05-22T21:14:00.933006Z"
    },
    "id": "l02YMScmaXVi"
   },
   "outputs": [],
   "source": [
    "del tf_idf, centered, tfidf_dataframe"
   ]
  },
  {
   "cell_type": "code",
   "execution_count": null,
   "id": "EPsG8Jp-XKEI",
   "metadata": {
    "colab": {
     "base_uri": "https://localhost:8080/",
     "height": 270
    },
    "execution": {
     "iopub.execute_input": "2023-05-22T21:14:01.041144Z",
     "iopub.status.busy": "2023-05-22T21:14:01.040546Z",
     "iopub.status.idle": "2023-05-22T21:14:02.876730Z",
     "shell.execute_reply": "2023-05-22T21:14:02.875169Z",
     "shell.execute_reply.started": "2023-05-22T21:14:01.041101Z"
    },
    "id": "EPsG8Jp-XKEI",
    "outputId": "a0229a2c-cb2e-458e-a6f8-064bdb2f479a"
   },
   "outputs": [
    {
     "data": {
      "text/html": [
       "<div>\n",
       "<style scoped>\n",
       "    .dataframe tbody tr th:only-of-type {\n",
       "        vertical-align: middle;\n",
       "    }\n",
       "\n",
       "    .dataframe tbody tr th {\n",
       "        vertical-align: top;\n",
       "    }\n",
       "\n",
       "    .dataframe thead th {\n",
       "        text-align: right;\n",
       "    }\n",
       "</style>\n",
       "<table border=\"1\" class=\"dataframe\">\n",
       "  <thead>\n",
       "    <tr style=\"text-align: right;\">\n",
       "      <th></th>\n",
       "      <th>DistanceTo0thCluster</th>\n",
       "      <th>DistanceTo1thCluster</th>\n",
       "      <th>DistanceTo2thCluster</th>\n",
       "      <th>DistanceTo3thCluster</th>\n",
       "      <th>DistanceTo4thCluster</th>\n",
       "      <th>DistanceTo5thCluster</th>\n",
       "      <th>DistanceTo6thCluster</th>\n",
       "      <th>DistanceTo7thCluster</th>\n",
       "      <th>DistanceTo8thCluster</th>\n",
       "      <th>DistanceTo9thCluster</th>\n",
       "      <th>DistanceTo10thCluster</th>\n",
       "      <th>DistanceTo11thCluster</th>\n",
       "      <th>DistanceTo12thCluster</th>\n",
       "      <th>DistanceTo13thCluster</th>\n",
       "      <th>DistanceTo14thCluster</th>\n",
       "      <th>tf_idf_cluster</th>\n",
       "    </tr>\n",
       "  </thead>\n",
       "  <tbody>\n",
       "    <tr>\n",
       "      <th>0</th>\n",
       "      <td>0.522514</td>\n",
       "      <td>0.486541</td>\n",
       "      <td>0.567554</td>\n",
       "      <td>0.594926</td>\n",
       "      <td>0.497341</td>\n",
       "      <td>0.512659</td>\n",
       "      <td>0.478482</td>\n",
       "      <td>0.527947</td>\n",
       "      <td>0.468475</td>\n",
       "      <td>0.488254</td>\n",
       "      <td>0.537751</td>\n",
       "      <td>0.532825</td>\n",
       "      <td>0.429785</td>\n",
       "      <td>0.153237</td>\n",
       "      <td>0.466340</td>\n",
       "      <td>13</td>\n",
       "    </tr>\n",
       "    <tr>\n",
       "      <th>1</th>\n",
       "      <td>0.427946</td>\n",
       "      <td>0.386982</td>\n",
       "      <td>0.494040</td>\n",
       "      <td>0.394262</td>\n",
       "      <td>0.403452</td>\n",
       "      <td>0.416839</td>\n",
       "      <td>0.376135</td>\n",
       "      <td>0.435338</td>\n",
       "      <td>0.359343</td>\n",
       "      <td>0.398767</td>\n",
       "      <td>0.446415</td>\n",
       "      <td>0.434350</td>\n",
       "      <td>0.311248</td>\n",
       "      <td>0.450197</td>\n",
       "      <td>0.302953</td>\n",
       "      <td>14</td>\n",
       "    </tr>\n",
       "    <tr>\n",
       "      <th>2</th>\n",
       "      <td>0.435614</td>\n",
       "      <td>0.383666</td>\n",
       "      <td>0.491436</td>\n",
       "      <td>0.549934</td>\n",
       "      <td>0.407342</td>\n",
       "      <td>0.417702</td>\n",
       "      <td>0.387079</td>\n",
       "      <td>0.459351</td>\n",
       "      <td>0.365450</td>\n",
       "      <td>0.402708</td>\n",
       "      <td>0.444119</td>\n",
       "      <td>0.471619</td>\n",
       "      <td>0.235805</td>\n",
       "      <td>0.356460</td>\n",
       "      <td>0.390229</td>\n",
       "      <td>12</td>\n",
       "    </tr>\n",
       "    <tr>\n",
       "      <th>3</th>\n",
       "      <td>0.455911</td>\n",
       "      <td>0.414188</td>\n",
       "      <td>0.480464</td>\n",
       "      <td>0.559150</td>\n",
       "      <td>0.420160</td>\n",
       "      <td>0.445302</td>\n",
       "      <td>0.411965</td>\n",
       "      <td>0.480956</td>\n",
       "      <td>0.387254</td>\n",
       "      <td>0.439181</td>\n",
       "      <td>0.470465</td>\n",
       "      <td>0.487084</td>\n",
       "      <td>0.291078</td>\n",
       "      <td>0.478927</td>\n",
       "      <td>0.402043</td>\n",
       "      <td>12</td>\n",
       "    </tr>\n",
       "    <tr>\n",
       "      <th>4</th>\n",
       "      <td>0.285149</td>\n",
       "      <td>0.208205</td>\n",
       "      <td>0.360177</td>\n",
       "      <td>0.442101</td>\n",
       "      <td>0.225084</td>\n",
       "      <td>0.268487</td>\n",
       "      <td>0.243201</td>\n",
       "      <td>0.323672</td>\n",
       "      <td>0.148965</td>\n",
       "      <td>0.254756</td>\n",
       "      <td>0.308597</td>\n",
       "      <td>0.342975</td>\n",
       "      <td>0.165289</td>\n",
       "      <td>0.390245</td>\n",
       "      <td>0.230778</td>\n",
       "      <td>8</td>\n",
       "    </tr>\n",
       "  </tbody>\n",
       "</table>\n",
       "</div>"
      ],
      "text/plain": [
       "   DistanceTo0thCluster  DistanceTo1thCluster  DistanceTo2thCluster  \\\n",
       "0              0.522514              0.486541              0.567554   \n",
       "1              0.427946              0.386982              0.494040   \n",
       "2              0.435614              0.383666              0.491436   \n",
       "3              0.455911              0.414188              0.480464   \n",
       "4              0.285149              0.208205              0.360177   \n",
       "\n",
       "   DistanceTo3thCluster  DistanceTo4thCluster  DistanceTo5thCluster  \\\n",
       "0              0.594926              0.497341              0.512659   \n",
       "1              0.394262              0.403452              0.416839   \n",
       "2              0.549934              0.407342              0.417702   \n",
       "3              0.559150              0.420160              0.445302   \n",
       "4              0.442101              0.225084              0.268487   \n",
       "\n",
       "   DistanceTo6thCluster  DistanceTo7thCluster  DistanceTo8thCluster  \\\n",
       "0              0.478482              0.527947              0.468475   \n",
       "1              0.376135              0.435338              0.359343   \n",
       "2              0.387079              0.459351              0.365450   \n",
       "3              0.411965              0.480956              0.387254   \n",
       "4              0.243201              0.323672              0.148965   \n",
       "\n",
       "   DistanceTo9thCluster  DistanceTo10thCluster  DistanceTo11thCluster  \\\n",
       "0              0.488254               0.537751               0.532825   \n",
       "1              0.398767               0.446415               0.434350   \n",
       "2              0.402708               0.444119               0.471619   \n",
       "3              0.439181               0.470465               0.487084   \n",
       "4              0.254756               0.308597               0.342975   \n",
       "\n",
       "   DistanceTo12thCluster  DistanceTo13thCluster  DistanceTo14thCluster  \\\n",
       "0               0.429785               0.153237               0.466340   \n",
       "1               0.311248               0.450197               0.302953   \n",
       "2               0.235805               0.356460               0.390229   \n",
       "3               0.291078               0.478927               0.402043   \n",
       "4               0.165289               0.390245               0.230778   \n",
       "\n",
       "   tf_idf_cluster  \n",
       "0              13  \n",
       "1              14  \n",
       "2              12  \n",
       "3              12  \n",
       "4               8  "
      ]
     },
     "execution_count": 11,
     "metadata": {},
     "output_type": "execute_result"
    }
   ],
   "source": [
    "# кластеризуем тектсы по главным компонентам tf-idf\n",
    "kmeans = KMeans(n_clusters=15, random_state=0).fit(pca_from_tf_idf)\n",
    "\n",
    "features_from_tfidf = pd.DataFrame(data=kmeans.transform(pca_from_tf_idf),\n",
    "                                   columns=[f'DistanceTo{cls}thCluster' for cls in set(kmeans.labels_)])\n",
    "   \n",
    "features_from_tfidf['tf_idf_cluster'] = kmeans.labels_\n",
    "\n",
    "\n",
    "features_from_tfidf.head()"
   ]
  },
  {
   "cell_type": "code",
   "execution_count": null,
   "id": "Ch3s-07OXKEI",
   "metadata": {
    "colab": {
     "base_uri": "https://localhost:8080/",
     "height": 299
    },
    "execution": {
     "iopub.execute_input": "2023-05-22T21:14:02.879213Z",
     "iopub.status.busy": "2023-05-22T21:14:02.878783Z",
     "iopub.status.idle": "2023-05-22T21:14:02.944955Z",
     "shell.execute_reply": "2023-05-22T21:14:02.943411Z",
     "shell.execute_reply.started": "2023-05-22T21:14:02.879170Z"
    },
    "id": "Ch3s-07OXKEI",
    "outputId": "04e1f380-630a-42b9-c362-ac09997de1aa"
   },
   "outputs": [
    {
     "data": {
      "text/html": [
       "<div>\n",
       "<style scoped>\n",
       "    .dataframe tbody tr th:only-of-type {\n",
       "        vertical-align: middle;\n",
       "    }\n",
       "\n",
       "    .dataframe tbody tr th {\n",
       "        vertical-align: top;\n",
       "    }\n",
       "\n",
       "    .dataframe thead th {\n",
       "        text-align: right;\n",
       "    }\n",
       "</style>\n",
       "<table border=\"1\" class=\"dataframe\">\n",
       "  <thead>\n",
       "    <tr style=\"text-align: right;\">\n",
       "      <th></th>\n",
       "      <th>post_id</th>\n",
       "      <th>DistanceTo0thCluster</th>\n",
       "      <th>DistanceTo1thCluster</th>\n",
       "      <th>DistanceTo2thCluster</th>\n",
       "      <th>DistanceTo3thCluster</th>\n",
       "      <th>DistanceTo4thCluster</th>\n",
       "      <th>DistanceTo5thCluster</th>\n",
       "      <th>DistanceTo6thCluster</th>\n",
       "      <th>DistanceTo7thCluster</th>\n",
       "      <th>DistanceTo8thCluster</th>\n",
       "      <th>...</th>\n",
       "      <th>DistanceTo12thCluster</th>\n",
       "      <th>DistanceTo13thCluster</th>\n",
       "      <th>DistanceTo14thCluster</th>\n",
       "      <th>tf_idf_cluster</th>\n",
       "      <th>covid</th>\n",
       "      <th>entertainment</th>\n",
       "      <th>movie</th>\n",
       "      <th>politics</th>\n",
       "      <th>sport</th>\n",
       "      <th>tech</th>\n",
       "    </tr>\n",
       "  </thead>\n",
       "  <tbody>\n",
       "    <tr>\n",
       "      <th>0</th>\n",
       "      <td>1</td>\n",
       "      <td>0.522514</td>\n",
       "      <td>0.486541</td>\n",
       "      <td>0.567554</td>\n",
       "      <td>0.594926</td>\n",
       "      <td>0.497341</td>\n",
       "      <td>0.512659</td>\n",
       "      <td>0.478482</td>\n",
       "      <td>0.527947</td>\n",
       "      <td>0.468475</td>\n",
       "      <td>...</td>\n",
       "      <td>0.429785</td>\n",
       "      <td>0.153237</td>\n",
       "      <td>0.466340</td>\n",
       "      <td>13</td>\n",
       "      <td>0</td>\n",
       "      <td>0</td>\n",
       "      <td>0</td>\n",
       "      <td>0</td>\n",
       "      <td>0</td>\n",
       "      <td>0</td>\n",
       "    </tr>\n",
       "    <tr>\n",
       "      <th>1</th>\n",
       "      <td>2</td>\n",
       "      <td>0.427946</td>\n",
       "      <td>0.386982</td>\n",
       "      <td>0.494040</td>\n",
       "      <td>0.394262</td>\n",
       "      <td>0.403452</td>\n",
       "      <td>0.416839</td>\n",
       "      <td>0.376135</td>\n",
       "      <td>0.435338</td>\n",
       "      <td>0.359343</td>\n",
       "      <td>...</td>\n",
       "      <td>0.311248</td>\n",
       "      <td>0.450197</td>\n",
       "      <td>0.302953</td>\n",
       "      <td>14</td>\n",
       "      <td>0</td>\n",
       "      <td>0</td>\n",
       "      <td>0</td>\n",
       "      <td>0</td>\n",
       "      <td>0</td>\n",
       "      <td>0</td>\n",
       "    </tr>\n",
       "    <tr>\n",
       "      <th>2</th>\n",
       "      <td>3</td>\n",
       "      <td>0.435614</td>\n",
       "      <td>0.383666</td>\n",
       "      <td>0.491436</td>\n",
       "      <td>0.549934</td>\n",
       "      <td>0.407342</td>\n",
       "      <td>0.417702</td>\n",
       "      <td>0.387079</td>\n",
       "      <td>0.459351</td>\n",
       "      <td>0.365450</td>\n",
       "      <td>...</td>\n",
       "      <td>0.235805</td>\n",
       "      <td>0.356460</td>\n",
       "      <td>0.390229</td>\n",
       "      <td>12</td>\n",
       "      <td>0</td>\n",
       "      <td>0</td>\n",
       "      <td>0</td>\n",
       "      <td>0</td>\n",
       "      <td>0</td>\n",
       "      <td>0</td>\n",
       "    </tr>\n",
       "    <tr>\n",
       "      <th>3</th>\n",
       "      <td>4</td>\n",
       "      <td>0.455911</td>\n",
       "      <td>0.414188</td>\n",
       "      <td>0.480464</td>\n",
       "      <td>0.559150</td>\n",
       "      <td>0.420160</td>\n",
       "      <td>0.445302</td>\n",
       "      <td>0.411965</td>\n",
       "      <td>0.480956</td>\n",
       "      <td>0.387254</td>\n",
       "      <td>...</td>\n",
       "      <td>0.291078</td>\n",
       "      <td>0.478927</td>\n",
       "      <td>0.402043</td>\n",
       "      <td>12</td>\n",
       "      <td>0</td>\n",
       "      <td>0</td>\n",
       "      <td>0</td>\n",
       "      <td>0</td>\n",
       "      <td>0</td>\n",
       "      <td>0</td>\n",
       "    </tr>\n",
       "    <tr>\n",
       "      <th>4</th>\n",
       "      <td>5</td>\n",
       "      <td>0.285149</td>\n",
       "      <td>0.208205</td>\n",
       "      <td>0.360177</td>\n",
       "      <td>0.442101</td>\n",
       "      <td>0.225084</td>\n",
       "      <td>0.268487</td>\n",
       "      <td>0.243201</td>\n",
       "      <td>0.323672</td>\n",
       "      <td>0.148965</td>\n",
       "      <td>...</td>\n",
       "      <td>0.165289</td>\n",
       "      <td>0.390245</td>\n",
       "      <td>0.230778</td>\n",
       "      <td>8</td>\n",
       "      <td>0</td>\n",
       "      <td>0</td>\n",
       "      <td>0</td>\n",
       "      <td>0</td>\n",
       "      <td>0</td>\n",
       "      <td>0</td>\n",
       "    </tr>\n",
       "  </tbody>\n",
       "</table>\n",
       "<p>5 rows × 23 columns</p>\n",
       "</div>"
      ],
      "text/plain": [
       "   post_id  DistanceTo0thCluster  DistanceTo1thCluster  DistanceTo2thCluster  \\\n",
       "0        1              0.522514              0.486541              0.567554   \n",
       "1        2              0.427946              0.386982              0.494040   \n",
       "2        3              0.435614              0.383666              0.491436   \n",
       "3        4              0.455911              0.414188              0.480464   \n",
       "4        5              0.285149              0.208205              0.360177   \n",
       "\n",
       "   DistanceTo3thCluster  DistanceTo4thCluster  DistanceTo5thCluster  \\\n",
       "0              0.594926              0.497341              0.512659   \n",
       "1              0.394262              0.403452              0.416839   \n",
       "2              0.549934              0.407342              0.417702   \n",
       "3              0.559150              0.420160              0.445302   \n",
       "4              0.442101              0.225084              0.268487   \n",
       "\n",
       "   DistanceTo6thCluster  DistanceTo7thCluster  DistanceTo8thCluster  ...  \\\n",
       "0              0.478482              0.527947              0.468475  ...   \n",
       "1              0.376135              0.435338              0.359343  ...   \n",
       "2              0.387079              0.459351              0.365450  ...   \n",
       "3              0.411965              0.480956              0.387254  ...   \n",
       "4              0.243201              0.323672              0.148965  ...   \n",
       "\n",
       "   DistanceTo12thCluster  DistanceTo13thCluster  DistanceTo14thCluster  \\\n",
       "0               0.429785               0.153237               0.466340   \n",
       "1               0.311248               0.450197               0.302953   \n",
       "2               0.235805               0.356460               0.390229   \n",
       "3               0.291078               0.478927               0.402043   \n",
       "4               0.165289               0.390245               0.230778   \n",
       "\n",
       "   tf_idf_cluster  covid  entertainment  movie  politics  sport  tech  \n",
       "0              13      0              0      0         0      0     0  \n",
       "1              14      0              0      0         0      0     0  \n",
       "2              12      0              0      0         0      0     0  \n",
       "3              12      0              0      0         0      0     0  \n",
       "4               8      0              0      0         0      0     0  \n",
       "\n",
       "[5 rows x 23 columns]"
      ]
     },
     "execution_count": 12,
     "metadata": {},
     "output_type": "execute_result"
    }
   ],
   "source": [
    "one_hot_topics = pd.get_dummies(posts_df['topic'], drop_first=True)\n",
    "\n",
    "processed_posts = pd.concat((posts_df['id'], \n",
    "                             features_from_tfidf,\n",
    "                             one_hot_topics), axis=1).rename(columns={'id':'post_id'})\n",
    "\n",
    "processed_posts.head()"
   ]
  },
  {
   "cell_type": "code",
   "execution_count": null,
   "id": "8i5_D073Bk3r",
   "metadata": {
    "execution": {
     "iopub.execute_input": "2023-05-22T21:14:02.953990Z",
     "iopub.status.busy": "2023-05-22T21:14:02.953352Z",
     "iopub.status.idle": "2023-05-22T21:14:02.965957Z",
     "shell.execute_reply": "2023-05-22T21:14:02.964923Z",
     "shell.execute_reply.started": "2023-05-22T21:14:02.953945Z"
    },
    "id": "8i5_D073Bk3r"
   },
   "outputs": [],
   "source": [
    "\n",
    "# старые функции предобработки данных\n",
    "def users_processing(input_data):\n",
    "    '''кодирует категориальные фичи,\n",
    "       те что имеют менее 15 уникальных значений через OneHotEncoding,\n",
    "       остальные через LabelEncoder\n",
    "    '''\n",
    "    df = input_data.copy()\n",
    "\n",
    "    for col in df.columns:\n",
    "        if df[col].dtype == 'O':\n",
    "            if df[col].nunique() < 15:\n",
    "                ohe_col = pd.get_dummies(df[col], drop_first=True)\n",
    "                df = pd.concat((df, ohe_col), axis=1)\n",
    "                df.drop(col, axis=1, inplace=True)\n",
    "            else:\n",
    "                df[col] = LabelEncoder().fit_transform(df[col])\n",
    "                \n",
    "    return df\n",
    "\n",
    "\n",
    "def feed_processing(input_data):\n",
    "    df = input_data.copy()\n",
    "    df = df.groupby(['user_id', 'post_id'], as_index=False).sum()\n",
    "    df['target'] = df['target'].apply(lambda x: int(x > 0))\n",
    "    \n",
    "    return df\n"
   ]
  },
  {
   "cell_type": "code",
   "execution_count": null,
   "id": "3ofntCA4XKEK",
   "metadata": {
    "colab": {
     "base_uri": "https://localhost:8080/",
     "height": 206
    },
    "execution": {
     "iopub.execute_input": "2023-05-22T21:14:02.968483Z",
     "iopub.status.busy": "2023-05-22T21:14:02.967605Z",
     "iopub.status.idle": "2023-05-22T21:14:11.581318Z",
     "shell.execute_reply": "2023-05-22T21:14:11.580277Z",
     "shell.execute_reply.started": "2023-05-22T21:14:02.968440Z"
    },
    "id": "3ofntCA4XKEK",
    "outputId": "87ab68cf-ac72-4145-e7e6-d1e835854b13"
   },
   "outputs": [
    {
     "data": {
      "text/html": [
       "<div>\n",
       "<style scoped>\n",
       "    .dataframe tbody tr th:only-of-type {\n",
       "        vertical-align: middle;\n",
       "    }\n",
       "\n",
       "    .dataframe tbody tr th {\n",
       "        vertical-align: top;\n",
       "    }\n",
       "\n",
       "    .dataframe thead th {\n",
       "        text-align: right;\n",
       "    }\n",
       "</style>\n",
       "<table border=\"1\" class=\"dataframe\">\n",
       "  <thead>\n",
       "    <tr style=\"text-align: right;\">\n",
       "      <th></th>\n",
       "      <th>user_id</th>\n",
       "      <th>gender</th>\n",
       "      <th>age</th>\n",
       "      <th>city</th>\n",
       "      <th>exp_group</th>\n",
       "      <th>Belarus</th>\n",
       "      <th>Cyprus</th>\n",
       "      <th>Estonia</th>\n",
       "      <th>Finland</th>\n",
       "      <th>Kazakhstan</th>\n",
       "      <th>Latvia</th>\n",
       "      <th>Russia</th>\n",
       "      <th>Switzerland</th>\n",
       "      <th>Turkey</th>\n",
       "      <th>Ukraine</th>\n",
       "      <th>iOS</th>\n",
       "      <th>organic</th>\n",
       "    </tr>\n",
       "  </thead>\n",
       "  <tbody>\n",
       "    <tr>\n",
       "      <th>0</th>\n",
       "      <td>200</td>\n",
       "      <td>1</td>\n",
       "      <td>34</td>\n",
       "      <td>651</td>\n",
       "      <td>3</td>\n",
       "      <td>0</td>\n",
       "      <td>0</td>\n",
       "      <td>0</td>\n",
       "      <td>0</td>\n",
       "      <td>0</td>\n",
       "      <td>0</td>\n",
       "      <td>1</td>\n",
       "      <td>0</td>\n",
       "      <td>0</td>\n",
       "      <td>0</td>\n",
       "      <td>0</td>\n",
       "      <td>0</td>\n",
       "    </tr>\n",
       "    <tr>\n",
       "      <th>1</th>\n",
       "      <td>201</td>\n",
       "      <td>0</td>\n",
       "      <td>37</td>\n",
       "      <td>2</td>\n",
       "      <td>0</td>\n",
       "      <td>0</td>\n",
       "      <td>0</td>\n",
       "      <td>0</td>\n",
       "      <td>0</td>\n",
       "      <td>0</td>\n",
       "      <td>0</td>\n",
       "      <td>1</td>\n",
       "      <td>0</td>\n",
       "      <td>0</td>\n",
       "      <td>0</td>\n",
       "      <td>0</td>\n",
       "      <td>0</td>\n",
       "    </tr>\n",
       "    <tr>\n",
       "      <th>2</th>\n",
       "      <td>202</td>\n",
       "      <td>1</td>\n",
       "      <td>17</td>\n",
       "      <td>2931</td>\n",
       "      <td>4</td>\n",
       "      <td>0</td>\n",
       "      <td>0</td>\n",
       "      <td>0</td>\n",
       "      <td>0</td>\n",
       "      <td>0</td>\n",
       "      <td>0</td>\n",
       "      <td>1</td>\n",
       "      <td>0</td>\n",
       "      <td>0</td>\n",
       "      <td>0</td>\n",
       "      <td>0</td>\n",
       "      <td>0</td>\n",
       "    </tr>\n",
       "    <tr>\n",
       "      <th>3</th>\n",
       "      <td>203</td>\n",
       "      <td>0</td>\n",
       "      <td>18</td>\n",
       "      <td>1953</td>\n",
       "      <td>1</td>\n",
       "      <td>0</td>\n",
       "      <td>0</td>\n",
       "      <td>0</td>\n",
       "      <td>0</td>\n",
       "      <td>0</td>\n",
       "      <td>0</td>\n",
       "      <td>1</td>\n",
       "      <td>0</td>\n",
       "      <td>0</td>\n",
       "      <td>0</td>\n",
       "      <td>1</td>\n",
       "      <td>0</td>\n",
       "    </tr>\n",
       "    <tr>\n",
       "      <th>4</th>\n",
       "      <td>204</td>\n",
       "      <td>0</td>\n",
       "      <td>36</td>\n",
       "      <td>125</td>\n",
       "      <td>3</td>\n",
       "      <td>0</td>\n",
       "      <td>0</td>\n",
       "      <td>0</td>\n",
       "      <td>0</td>\n",
       "      <td>0</td>\n",
       "      <td>0</td>\n",
       "      <td>1</td>\n",
       "      <td>0</td>\n",
       "      <td>0</td>\n",
       "      <td>0</td>\n",
       "      <td>0</td>\n",
       "      <td>0</td>\n",
       "    </tr>\n",
       "  </tbody>\n",
       "</table>\n",
       "</div>"
      ],
      "text/plain": [
       "   user_id  gender  age  city  exp_group  Belarus  Cyprus  Estonia  Finland  \\\n",
       "0      200       1   34   651          3        0       0        0        0   \n",
       "1      201       0   37     2          0        0       0        0        0   \n",
       "2      202       1   17  2931          4        0       0        0        0   \n",
       "3      203       0   18  1953          1        0       0        0        0   \n",
       "4      204       0   36   125          3        0       0        0        0   \n",
       "\n",
       "   Kazakhstan  Latvia  Russia  Switzerland  Turkey  Ukraine  iOS  organic  \n",
       "0           0       0       1            0       0        0    0        0  \n",
       "1           0       0       1            0       0        0    0        0  \n",
       "2           0       0       1            0       0        0    0        0  \n",
       "3           0       0       1            0       0        0    1        0  \n",
       "4           0       0       1            0       0        0    0        0  "
      ]
     },
     "execution_count": 14,
     "metadata": {},
     "output_type": "execute_result"
    }
   ],
   "source": [
    "user_processed = users_processing(get_data_with_sqlalchemy('user_data', 200000))\n",
    "user_processed.head()"
   ]
  },
  {
   "cell_type": "code",
   "execution_count": null,
   "id": "mij5PHtuXKEL",
   "metadata": {
    "id": "mij5PHtuXKEL"
   },
   "outputs": [],
   "source": [
    "feed_df = get_data_with_psycopg(\"select * from public.feed_data where (timestamp::date > '2021-11-01') and (timestamp::date < '2021-11-27') limit 3000000\")\n",
    "feed_df.shape"
   ]
  },
  {
   "cell_type": "code",
   "execution_count": null,
   "id": "bKXxQCc4XKEL",
   "metadata": {
    "colab": {
     "base_uri": "https://localhost:8080/",
     "height": 206
    },
    "execution": {
     "iopub.execute_input": "2023-05-22T21:14:15.051558Z",
     "iopub.status.busy": "2023-05-22T21:14:15.050565Z",
     "iopub.status.idle": "2023-05-22T21:14:18.138771Z",
     "shell.execute_reply": "2023-05-22T21:14:18.137638Z",
     "shell.execute_reply.started": "2023-05-22T21:14:15.051514Z"
    },
    "id": "bKXxQCc4XKEL",
    "outputId": "9498c1bd-efb8-494b-936a-9446b2f0bc8c"
   },
   "outputs": [
    {
     "data": {
      "text/html": [
       "<div>\n",
       "<style scoped>\n",
       "    .dataframe tbody tr th:only-of-type {\n",
       "        vertical-align: middle;\n",
       "    }\n",
       "\n",
       "    .dataframe tbody tr th {\n",
       "        vertical-align: top;\n",
       "    }\n",
       "\n",
       "    .dataframe thead th {\n",
       "        text-align: right;\n",
       "    }\n",
       "</style>\n",
       "<table border=\"1\" class=\"dataframe\">\n",
       "  <thead>\n",
       "    <tr style=\"text-align: right;\">\n",
       "      <th></th>\n",
       "      <th>user_id</th>\n",
       "      <th>post_id</th>\n",
       "      <th>target</th>\n",
       "    </tr>\n",
       "  </thead>\n",
       "  <tbody>\n",
       "    <tr>\n",
       "      <th>0</th>\n",
       "      <td>3778</td>\n",
       "      <td>34</td>\n",
       "      <td>0</td>\n",
       "    </tr>\n",
       "    <tr>\n",
       "      <th>1</th>\n",
       "      <td>3778</td>\n",
       "      <td>54</td>\n",
       "      <td>0</td>\n",
       "    </tr>\n",
       "    <tr>\n",
       "      <th>2</th>\n",
       "      <td>3778</td>\n",
       "      <td>66</td>\n",
       "      <td>1</td>\n",
       "    </tr>\n",
       "    <tr>\n",
       "      <th>3</th>\n",
       "      <td>3778</td>\n",
       "      <td>83</td>\n",
       "      <td>0</td>\n",
       "    </tr>\n",
       "    <tr>\n",
       "      <th>4</th>\n",
       "      <td>3778</td>\n",
       "      <td>87</td>\n",
       "      <td>0</td>\n",
       "    </tr>\n",
       "  </tbody>\n",
       "</table>\n",
       "</div>"
      ],
      "text/plain": [
       "   user_id  post_id  target\n",
       "0     3778       34       0\n",
       "1     3778       54       0\n",
       "2     3778       66       1\n",
       "3     3778       83       0\n",
       "4     3778       87       0"
      ]
     },
     "execution_count": 16,
     "metadata": {},
     "output_type": "execute_result"
    }
   ],
   "source": [
    "feed_processed = feed_processing(feed_df)\n",
    "del feed_df\n",
    "\n",
    "feed_processed.head()"
   ]
  },
  {
   "cell_type": "code",
   "execution_count": null,
   "id": "7Cw_dmFsXKEM",
   "metadata": {
    "execution": {
     "iopub.execute_input": "2023-05-22T21:14:18.141148Z",
     "iopub.status.busy": "2023-05-22T21:14:18.140228Z",
     "iopub.status.idle": "2023-05-22T21:14:19.128882Z",
     "shell.execute_reply": "2023-05-22T21:14:19.127791Z",
     "shell.execute_reply.started": "2023-05-22T21:14:18.141105Z"
    },
    "id": "7Cw_dmFsXKEM"
   },
   "outputs": [],
   "source": [
    "concat_df = feed_processed.merge(user_processed, how='inner', on='user_id')\n",
    "concat_df = concat_df.merge(processed_posts, how='inner', on='post_id')"
   ]
  },
  {
   "cell_type": "code",
   "execution_count": null,
   "id": "X5-z1913cwf4",
   "metadata": {
    "execution": {
     "iopub.status.busy": "2023-05-22T20:52:36.184162Z",
     "iopub.status.idle": "2023-05-22T20:52:36.185051Z",
     "shell.execute_reply": "2023-05-22T20:52:36.184708Z",
     "shell.execute_reply.started": "2023-05-22T20:52:36.184679Z"
    },
    "id": "X5-z1913cwf4"
   },
   "outputs": [],
   "source": [
    "# import locale\n",
    "# locale.getpreferredencoding = lambda: \"UTF-8\"\n",
    "# !pip install catboost\n"
   ]
  },
  {
   "cell_type": "code",
   "execution_count": null,
   "id": "k5fdi7KacbHK",
   "metadata": {
    "execution": {
     "iopub.execute_input": "2023-05-22T21:14:19.131005Z",
     "iopub.status.busy": "2023-05-22T21:14:19.130566Z",
     "iopub.status.idle": "2023-05-22T21:14:19.884618Z",
     "shell.execute_reply": "2023-05-22T21:14:19.883495Z",
     "shell.execute_reply.started": "2023-05-22T21:14:19.130963Z"
    },
    "id": "k5fdi7KacbHK"
   },
   "outputs": [],
   "source": [
    "from catboost import CatBoostClassifier\n",
    "\n",
    "X = concat_df.drop(['user_id', 'post_id', 'target'], axis=1)\n",
    "y = concat_df['target']\n",
    "\n",
    "\n",
    "test_size = 0.25\n",
    "train_size = int(X.shape[0] - (X.shape[0] * test_size))\n",
    "\n",
    "X_train, X_test = X[:train_size], X[train_size:] \n",
    "y_train, y_test = y[:train_size], y[train_size:]\n",
    "\n",
    "cat_columns = ['city', 'exp_group', 'tf_idf_cluster']"
   ]
  },
  {
   "cell_type": "code",
   "execution_count": null,
   "id": "-GpvM3UydpzZ",
   "metadata": {
    "execution": {
     "iopub.execute_input": "2023-05-22T21:27:55.429955Z",
     "iopub.status.busy": "2023-05-22T21:27:55.429541Z",
     "iopub.status.idle": "2023-05-22T21:27:55.435143Z",
     "shell.execute_reply": "2023-05-22T21:27:55.433487Z",
     "shell.execute_reply.started": "2023-05-22T21:27:55.429919Z"
    },
    "id": "-GpvM3UydpzZ"
   },
   "outputs": [],
   "source": [
    "# control_catboost = CatBoostClassifier(\n",
    "#     learning_rate=0.9,\n",
    "#     depth=2,\n",
    "#     random_seed=138,\n",
    "#     thread_count=-1,\n",
    "#     task_type=\"GPU\",\n",
    "# )\n",
    "\n",
    "# control_catboost.fit(X_train, y_train, \n",
    "#                      cat_features=cat_columns,\n",
    "#                      verbose=True,\n",
    "#                      eval_set=(X_test, y_test))"
   ]
  },
  {
   "cell_type": "markdown",
   "id": "bVkrcuRre3fE",
   "metadata": {
    "id": "bVkrcuRre3fE"
   },
   "source": [
    "\n",
    "### Определяем функцию для рассчета Hitrate\n",
    "\n"
   ]
  },
  {
   "cell_type": "code",
   "execution_count": null,
   "id": "O9qpe49YeJLu",
   "metadata": {
    "execution": {
     "iopub.execute_input": "2023-05-22T21:16:10.764570Z",
     "iopub.status.busy": "2023-05-22T21:16:10.764227Z",
     "iopub.status.idle": "2023-05-22T21:16:10.780371Z",
     "shell.execute_reply": "2023-05-22T21:16:10.779042Z",
     "shell.execute_reply.started": "2023-05-22T21:16:10.764537Z"
    },
    "id": "O9qpe49YeJLu"
   },
   "outputs": [],
   "source": [
    "def get_hitrate(model):\n",
    "    X_test['pred'] = model.predict_proba(X_test)[:,1]\n",
    "    X_test['target'] = y_test\n",
    "    X_test['user_id'] = concat_df[train_size:]['user_id']\n",
    "    X_test['post_id'] = concat_df[train_size:]['post_id']\n",
    "\n",
    "    model_hitrate = []\n",
    "    for user in X_test['user_id'].unique():\n",
    "        part = X_test[X_test['user_id'] == user].sort_values(by='pred', ascending=False) # сортируем по убыванию вероятностей\n",
    "        part = part[:5] # получаем топ 5 постов, с наибольшей предсказанной вероятностью лайка\n",
    "        \n",
    "        hitrate = int(part['target'].sum() > 0) # считаем hitrate\n",
    "        model_hitrate.append(hitrate)\n",
    "    \n",
    "    X_test.drop(['user_id', 'post_id','pred','target'],axis=1, inplace=True)\n",
    "    \n",
    "    return model_hitrate"
   ]
  },
  {
   "cell_type": "code",
   "execution_count": null,
   "id": "R_s1fvNxfCsK",
   "metadata": {
    "colab": {
     "base_uri": "https://localhost:8080/"
    },
    "execution": {
     "iopub.execute_input": "2023-05-22T21:16:10.784270Z",
     "iopub.status.busy": "2023-05-22T21:16:10.783869Z",
     "iopub.status.idle": "2023-05-22T21:17:23.088753Z",
     "shell.execute_reply": "2023-05-22T21:17:23.087567Z",
     "shell.execute_reply.started": "2023-05-22T21:16:10.784235Z"
    },
    "id": "R_s1fvNxfCsK",
    "outputId": "8a992e93-e316-4f75-aaaf-61684eedfd98"
   },
   "outputs": [
    {
     "name": "stdout",
     "output_type": "stream",
     "text": [
      "Hitrate контрольной модели : 0.5300799709196655\n"
     ]
    }
   ],
   "source": [
    "hitrate = np.mean(get_hitrate(control_catboost))\n",
    "print(f'Hitrate контрольной модели : {hitrate}')"
   ]
  },
  {
   "cell_type": "code",
   "execution_count": null,
   "id": "xjypz-f67Xen",
   "metadata": {
    "execution": {
     "iopub.execute_input": "2023-05-22T21:17:23.096595Z",
     "iopub.status.busy": "2023-05-22T21:17:23.093610Z",
     "iopub.status.idle": "2023-05-22T21:17:23.869750Z",
     "shell.execute_reply": "2023-05-22T21:17:23.868588Z",
     "shell.execute_reply.started": "2023-05-22T21:17:23.096548Z"
    },
    "id": "xjypz-f67Xen",
    "outputId": "38871003-9530-4731-c00f-4b1e0c51dc6f"
   },
   "outputs": [
    {
     "data": {
      "image/png": "[encoded data removed]",
      "text/plain": [
       "<Figure size 1000x800 with 1 Axes>"
      ]
     },
     "metadata": {},
     "output_type": "display_data"
    }
   ],
   "source": [
    "\n",
    "def plot_feature_importance(importance,names,model_type):\n",
    "    \n",
    "    feature_importance = np.array(importance)\n",
    "    feature_names = np.array(names)\n",
    "    \n",
    "    data={'feature_names':feature_names,'feature_importance':feature_importance}\n",
    "    fi_df = pd.DataFrame(data)\n",
    "    \n",
    "    fi_df.sort_values(by=['feature_importance'], ascending=False,inplace=True)\n",
    "    \n",
    "    plt.figure(figsize=(10,8))\n",
    "    \n",
    "    sns.barplot(x=fi_df['feature_importance'], y=fi_df['feature_names'])\n",
    "\n",
    "    plt.title(model_type + ' FEATURE IMPORTANCE')\n",
    "    plt.xlabel('FEATURE IMPORTANCE')\n",
    "    plt.ylabel('FEATURE NAMES')\n",
    "    \n",
    "plot_feature_importance(control_catboost.feature_importances_,X_train.columns,' CONTROL Catboost')"
   ]
  },
  {
   "cell_type": "code",
   "execution_count": null,
   "id": "F7RIA3-SsGPe",
   "metadata": {
    "execution": {
     "iopub.status.busy": "2023-05-22T20:52:36.198590Z",
     "iopub.status.idle": "2023-05-22T20:52:36.199401Z",
     "shell.execute_reply": "2023-05-22T20:52:36.199155Z",
     "shell.execute_reply.started": "2023-05-22T20:52:36.199128Z"
    },
    "id": "F7RIA3-SsGPe"
   },
   "outputs": [],
   "source": [
    "# сохраняем модель \n",
    "control_catboost.save_model(\n",
    "    'control_catboost',\n",
    "    format=\"cbm\"                  \n",
    ")"
   ]
  },
  {
   "cell_type": "code",
   "execution_count": null,
   "id": "zBPVV36ntlZR",
   "metadata": {
    "execution": {
     "iopub.execute_input": "2023-05-22T21:17:23.872184Z",
     "iopub.status.busy": "2023-05-22T21:17:23.870912Z",
     "iopub.status.idle": "2023-05-22T21:17:23.878588Z",
     "shell.execute_reply": "2023-05-22T21:17:23.877332Z",
     "shell.execute_reply.started": "2023-05-22T21:17:23.872129Z"
    },
    "id": "zBPVV36ntlZR"
   },
   "outputs": [],
   "source": [
    "#чистим память\n",
    "del control_catboost, concat_df"
   ]
  },
  {
   "cell_type": "markdown",
   "id": "tShMH4EZt1kB",
   "metadata": {
    "id": "tShMH4EZt1kB"
   },
   "source": [
    "##### теперь обучим модель на ембедингах, их получим с помощью предобученной BERT\n",
    "\n",
    "### Получаем ембединги тектов и достаем из них фичи "
   ]
  },
  {
   "cell_type": "code",
   "execution_count": null,
   "id": "9811dda3",
   "metadata": {
    "execution": {
     "iopub.status.busy": "2023-05-22T20:52:36.203254Z",
     "iopub.status.idle": "2023-05-22T20:52:36.204067Z",
     "shell.execute_reply": "2023-05-22T20:52:36.203790Z",
     "shell.execute_reply.started": "2023-05-22T20:52:36.203763Z"
    },
    "id": "9811dda3"
   },
   "outputs": [],
   "source": [
    "# скачиваем предобученную BERT для получения ембедингов\n",
    "tokenizer, model = AutoTokenizer.from_pretrained('bert-base-cased'), BertModel.from_pretrained('bert-base-cased')"
   ]
  },
  {
   "cell_type": "code",
   "execution_count": null,
   "id": "eaec1b6a",
   "metadata": {
    "execution": {
     "iopub.status.busy": "2023-05-22T20:52:36.205663Z",
     "iopub.status.idle": "2023-05-22T20:52:36.206602Z",
     "shell.execute_reply": "2023-05-22T20:52:36.206326Z",
     "shell.execute_reply.started": "2023-05-22T20:52:36.206295Z"
    },
    "id": "eaec1b6a"
   },
   "outputs": [],
   "source": [
    "from torch.utils.data import Dataset\n",
    "from torch.utils.data import DataLoader\n",
    "from transformers import DataCollatorWithPadding\n",
    "\n",
    "\n",
    "# создаем датасет для постов\n",
    "class PostDataset(Dataset):\n",
    "    def __init__(self, texts, tokenizer):\n",
    "        super().__init__()\n",
    "\n",
    "        self.texts = tokenizer.batch_encode_plus(\n",
    "            texts,\n",
    "            add_special_tokens=True,\n",
    "            return_token_type_ids=False,\n",
    "            return_tensors='pt',\n",
    "            truncation=True,\n",
    "            padding=True\n",
    "        )\n",
    "        self.tokenizer = tokenizer\n",
    "\n",
    "    def __getitem__(self, idx):\n",
    "        return {'input_ids': self.texts['input_ids'][idx], 'attention_mask': self.texts['attention_mask'][idx]}\n",
    "\n",
    "    def __len__(self):\n",
    "        return len(self.texts['input_ids'])\n",
    "    \n",
    "    \n",
    "dataset = PostDataset(posts_df['text'].values.tolist(), tokenizer)# токенизируем слова\n",
    "\n",
    "data_collator = DataCollatorWithPadding(tokenizer=tokenizer) # для приведения текстов к одинаковой длинне\n",
    "\n",
    "loader = DataLoader(dataset, batch_size=32, collate_fn=data_collator, pin_memory=True, shuffle=False) "
   ]
  },
  {
   "cell_type": "code",
   "execution_count": null,
   "id": "0c319a50",
   "metadata": {
    "execution": {
     "iopub.status.busy": "2023-05-22T20:52:36.208075Z",
     "iopub.status.idle": "2023-05-22T20:52:36.208883Z",
     "shell.execute_reply": "2023-05-22T20:52:36.208624Z",
     "shell.execute_reply.started": "2023-05-22T20:52:36.208595Z"
    },
    "id": "0c319a50"
   },
   "outputs": [],
   "source": [
    "import torch\n",
    "from tqdm import tqdm\n",
    "\n",
    "\n",
    "@torch.inference_mode()# отключаем расчет градиента\n",
    "def get_embeddings_labels(model, loader):\n",
    "    '''Получаем ембединги с помощью модели'''\n",
    "\n",
    "    model.eval()\n",
    "    \n",
    "    total_embeddings = []\n",
    "    \n",
    "    for batch in tqdm(loader):\n",
    "        batch = {key: batch[key].to(device) for key in ['attention_mask', 'input_ids']}\n",
    "\n",
    "        embeddings = model(**batch)['last_hidden_state'][:, 0, :]\n",
    "\n",
    "        total_embeddings.append(embeddings.cpu())\n",
    "\n",
    "    return torch.cat(total_embeddings, dim=0)"
   ]
  },
  {
   "cell_type": "code",
   "execution_count": null,
   "id": "2a586254",
   "metadata": {
    "execution": {
     "iopub.status.busy": "2023-05-22T20:52:36.210336Z",
     "iopub.status.idle": "2023-05-22T20:52:36.211184Z",
     "shell.execute_reply": "2023-05-22T20:52:36.210900Z",
     "shell.execute_reply.started": "2023-05-22T20:52:36.210871Z"
    },
    "id": "2a586254"
   },
   "outputs": [],
   "source": [
    "device = torch.device('cuda:0' if torch.cuda.is_available() else 'cpu')\n",
    "\n",
    "print(device)\n",
    "\n",
    "model = model.to(device)"
   ]
  },
  {
   "cell_type": "code",
   "execution_count": null,
   "id": "7aab81e1",
   "metadata": {
    "execution": {
     "iopub.status.busy": "2023-05-22T20:52:36.212736Z",
     "iopub.status.idle": "2023-05-22T20:52:36.213580Z",
     "shell.execute_reply": "2023-05-22T20:52:36.213336Z",
     "shell.execute_reply.started": "2023-05-22T20:52:36.213310Z"
    },
    "id": "7aab81e1"
   },
   "outputs": [],
   "source": [
    "embeddings = get_embeddings_labels(model, loader).numpy()\n",
    "\n",
    "embeddings.shape"
   ]
  },
  {
   "cell_type": "code",
   "execution_count": null,
   "id": "feb93ef2",
   "metadata": {
    "colab": {
     "base_uri": "https://localhost:8080/",
     "height": 287
    },
    "execution": {
     "iopub.execute_input": "2023-05-22T21:17:25.468159Z",
     "iopub.status.busy": "2023-05-22T21:17:25.467730Z",
     "iopub.status.idle": "2023-05-22T21:17:29.526144Z",
     "shell.execute_reply": "2023-05-22T21:17:29.524957Z",
     "shell.execute_reply.started": "2023-05-22T21:17:25.468113Z"
    },
    "id": "feb93ef2",
    "outputId": "21587cfb-4e88-4c0b-8a41-f7d192ca79a0"
   },
   "outputs": [
    {
     "name": "stdout",
     "output_type": "stream",
     "text": [
      "Процент учтенной дисперсии : 81.55%\n"
     ]
    },
    {
     "data": {
      "text/html": [
       "<div>\n",
       "<style scoped>\n",
       "    .dataframe tbody tr th:only-of-type {\n",
       "        vertical-align: middle;\n",
       "    }\n",
       "\n",
       "    .dataframe tbody tr th {\n",
       "        vertical-align: top;\n",
       "    }\n",
       "\n",
       "    .dataframe thead th {\n",
       "        text-align: right;\n",
       "    }\n",
       "</style>\n",
       "<table border=\"1\" class=\"dataframe\">\n",
       "  <thead>\n",
       "    <tr style=\"text-align: right;\">\n",
       "      <th></th>\n",
       "      <th>DistanceToCluster_0</th>\n",
       "      <th>DistanceToCluster_1</th>\n",
       "      <th>DistanceToCluster_2</th>\n",
       "      <th>DistanceToCluster_3</th>\n",
       "      <th>DistanceToCluster_4</th>\n",
       "      <th>DistanceToCluster_5</th>\n",
       "      <th>DistanceToCluster_6</th>\n",
       "      <th>DistanceToCluster_7</th>\n",
       "      <th>DistanceToCluster_8</th>\n",
       "      <th>DistanceToCluster_9</th>\n",
       "      <th>DistanceToCluster_10</th>\n",
       "      <th>DistanceToCluster_11</th>\n",
       "      <th>DistanceToCluster_12</th>\n",
       "      <th>DistanceToCluster_13</th>\n",
       "      <th>DistanceToCluster_14</th>\n",
       "      <th>dbscan_clusters</th>\n",
       "      <th>kmeans_clusters</th>\n",
       "    </tr>\n",
       "  </thead>\n",
       "  <tbody>\n",
       "    <tr>\n",
       "      <th>0</th>\n",
       "      <td>4.885947</td>\n",
       "      <td>4.013694</td>\n",
       "      <td>5.337161</td>\n",
       "      <td>3.430961</td>\n",
       "      <td>3.240476</td>\n",
       "      <td>4.209159</td>\n",
       "      <td>2.816814</td>\n",
       "      <td>4.347605</td>\n",
       "      <td>4.109518</td>\n",
       "      <td>4.938419</td>\n",
       "      <td>4.865866</td>\n",
       "      <td>5.404190</td>\n",
       "      <td>2.719312</td>\n",
       "      <td>5.314539</td>\n",
       "      <td>4.085820</td>\n",
       "      <td>0</td>\n",
       "      <td>12</td>\n",
       "    </tr>\n",
       "    <tr>\n",
       "      <th>1</th>\n",
       "      <td>7.365650</td>\n",
       "      <td>3.020405</td>\n",
       "      <td>7.915510</td>\n",
       "      <td>3.825038</td>\n",
       "      <td>4.929397</td>\n",
       "      <td>3.662909</td>\n",
       "      <td>4.059135</td>\n",
       "      <td>3.593085</td>\n",
       "      <td>1.825140</td>\n",
       "      <td>7.438226</td>\n",
       "      <td>7.086548</td>\n",
       "      <td>7.781630</td>\n",
       "      <td>4.947154</td>\n",
       "      <td>7.696849</td>\n",
       "      <td>6.242952</td>\n",
       "      <td>0</td>\n",
       "      <td>8</td>\n",
       "    </tr>\n",
       "    <tr>\n",
       "      <th>2</th>\n",
       "      <td>6.284945</td>\n",
       "      <td>2.226304</td>\n",
       "      <td>6.896920</td>\n",
       "      <td>4.518049</td>\n",
       "      <td>4.645065</td>\n",
       "      <td>2.784708</td>\n",
       "      <td>4.887888</td>\n",
       "      <td>5.230785</td>\n",
       "      <td>3.577348</td>\n",
       "      <td>6.578009</td>\n",
       "      <td>6.213522</td>\n",
       "      <td>6.460222</td>\n",
       "      <td>4.739002</td>\n",
       "      <td>6.772172</td>\n",
       "      <td>5.278029</td>\n",
       "      <td>-1</td>\n",
       "      <td>1</td>\n",
       "    </tr>\n",
       "    <tr>\n",
       "      <th>3</th>\n",
       "      <td>6.395127</td>\n",
       "      <td>4.953006</td>\n",
       "      <td>6.260554</td>\n",
       "      <td>3.058060</td>\n",
       "      <td>4.296948</td>\n",
       "      <td>5.105387</td>\n",
       "      <td>2.023567</td>\n",
       "      <td>2.815803</td>\n",
       "      <td>4.225357</td>\n",
       "      <td>6.208570</td>\n",
       "      <td>6.028819</td>\n",
       "      <td>6.350999</td>\n",
       "      <td>3.611956</td>\n",
       "      <td>6.675318</td>\n",
       "      <td>4.971673</td>\n",
       "      <td>0</td>\n",
       "      <td>6</td>\n",
       "    </tr>\n",
       "    <tr>\n",
       "      <th>4</th>\n",
       "      <td>4.295673</td>\n",
       "      <td>3.721398</td>\n",
       "      <td>4.691410</td>\n",
       "      <td>2.452093</td>\n",
       "      <td>2.493927</td>\n",
       "      <td>3.529050</td>\n",
       "      <td>2.841935</td>\n",
       "      <td>4.032390</td>\n",
       "      <td>3.755685</td>\n",
       "      <td>4.342939</td>\n",
       "      <td>4.044037</td>\n",
       "      <td>4.484669</td>\n",
       "      <td>1.892438</td>\n",
       "      <td>4.712291</td>\n",
       "      <td>3.033411</td>\n",
       "      <td>0</td>\n",
       "      <td>12</td>\n",
       "    </tr>\n",
       "  </tbody>\n",
       "</table>\n",
       "</div>"
      ],
      "text/plain": [
       "   DistanceToCluster_0  DistanceToCluster_1  DistanceToCluster_2  \\\n",
       "0             4.885947             4.013694             5.337161   \n",
       "1             7.365650             3.020405             7.915510   \n",
       "2             6.284945             2.226304             6.896920   \n",
       "3             6.395127             4.953006             6.260554   \n",
       "4             4.295673             3.721398             4.691410   \n",
       "\n",
       "   DistanceToCluster_3  DistanceToCluster_4  DistanceToCluster_5  \\\n",
       "0             3.430961             3.240476             4.209159   \n",
       "1             3.825038             4.929397             3.662909   \n",
       "2             4.518049             4.645065             2.784708   \n",
       "3             3.058060             4.296948             5.105387   \n",
       "4             2.452093             2.493927             3.529050   \n",
       "\n",
       "   DistanceToCluster_6  DistanceToCluster_7  DistanceToCluster_8  \\\n",
       "0             2.816814             4.347605             4.109518   \n",
       "1             4.059135             3.593085             1.825140   \n",
       "2             4.887888             5.230785             3.577348   \n",
       "3             2.023567             2.815803             4.225357   \n",
       "4             2.841935             4.032390             3.755685   \n",
       "\n",
       "   DistanceToCluster_9  DistanceToCluster_10  DistanceToCluster_11  \\\n",
       "0             4.938419              4.865866              5.404190   \n",
       "1             7.438226              7.086548              7.781630   \n",
       "2             6.578009              6.213522              6.460222   \n",
       "3             6.208570              6.028819              6.350999   \n",
       "4             4.342939              4.044037              4.484669   \n",
       "\n",
       "   DistanceToCluster_12  DistanceToCluster_13  DistanceToCluster_14  \\\n",
       "0              2.719312              5.314539              4.085820   \n",
       "1              4.947154              7.696849              6.242952   \n",
       "2              4.739002              6.772172              5.278029   \n",
       "3              3.611956              6.675318              4.971673   \n",
       "4              1.892438              4.712291              3.033411   \n",
       "\n",
       "   dbscan_clusters  kmeans_clusters  \n",
       "0                0               12  \n",
       "1                0                8  \n",
       "2               -1                1  \n",
       "3                0                6  \n",
       "4                0               12  "
      ]
     },
     "execution_count": 25,
     "metadata": {},
     "output_type": "execute_result"
    }
   ],
   "source": [
    "from sklearn.cluster import KMeans, DBSCAN\n",
    "from sklearn.decomposition import PCA\n",
    "\n",
    "centered = embeddings - embeddings.mean()\n",
    "\n",
    "# понижаем размерность ембедингов\n",
    "pca = PCA(n_components=50)\n",
    "pca_decomp = pca.fit_transform(centered)\n",
    "\n",
    "# кластеризуем главные компоненты с помощью KMeans\n",
    "kmeans = KMeans(n_clusters=15, random_state=0).fit(pca_decomp)\n",
    "\n",
    "# кластеризуем ембединги без понижения размерности \n",
    "dbscan = DBSCAN(eps=3).fit(embeddings)\n",
    "\n",
    "dists_columns = [f'DistanceToCluster_{i}' for i in range(15)]\n",
    "\n",
    "dists_df = pd.DataFrame(\n",
    "    data=kmeans.transform(pca_decomp),\n",
    "    columns=dists_columns)\n",
    "\n",
    "dists_df['dbscan_clusters'] = dbscan.labels_\n",
    "dists_df['kmeans_clusters'] = kmeans.labels_\n",
    "\n",
    "print(f'Процент учтенной дисперсии : {round(sum(pca.explained_variance_ratio_) * 100,2)}%')\n",
    "\n",
    "dists_df.head()\n"
   ]
  },
  {
   "cell_type": "code",
   "execution_count": null,
   "id": "Reeu0gU0FSDj",
   "metadata": {
    "execution": {
     "iopub.status.busy": "2023-05-22T20:52:36.219496Z",
     "iopub.status.idle": "2023-05-22T20:52:36.220305Z",
     "shell.execute_reply": "2023-05-22T20:52:36.220057Z",
     "shell.execute_reply.started": "2023-05-22T20:52:36.220030Z"
    },
    "id": "Reeu0gU0FSDj"
   },
   "outputs": [],
   "source": [
    "# чистим память, чтобы побольше влезло\n",
    "del model\n",
    "del tokenizer\n",
    "del dbscan\n",
    "del kmeans\n",
    "del pca\n",
    "del dataset\n",
    "del loader\n",
    "del data_collator\n",
    "del embeddings\n",
    "del centered\n",
    "del pca_decomp"
   ]
  },
  {
   "cell_type": "code",
   "execution_count": null,
   "id": "dJ2D5iVMQiIx",
   "metadata": {
    "execution": {
     "iopub.execute_input": "2023-05-22T21:17:29.529465Z",
     "iopub.status.busy": "2023-05-22T21:17:29.528085Z",
     "iopub.status.idle": "2023-05-22T21:17:29.538610Z",
     "shell.execute_reply": "2023-05-22T21:17:29.537181Z",
     "shell.execute_reply.started": "2023-05-22T21:17:29.529418Z"
    },
    "id": "dJ2D5iVMQiIx"
   },
   "outputs": [],
   "source": [
    "one_hot_topics = pd.get_dummies(posts_df['topic'], drop_first=True)"
   ]
  },
  {
   "cell_type": "code",
   "execution_count": null,
   "id": "7B1b-P-bzlh8",
   "metadata": {
    "colab": {
     "base_uri": "https://localhost:8080/",
     "height": 299
    },
    "execution": {
     "iopub.execute_input": "2023-05-22T21:17:29.542319Z",
     "iopub.status.busy": "2023-05-22T21:17:29.540850Z",
     "iopub.status.idle": "2023-05-22T21:17:29.594110Z",
     "shell.execute_reply": "2023-05-22T21:17:29.592796Z",
     "shell.execute_reply.started": "2023-05-22T21:17:29.542274Z"
    },
    "id": "7B1b-P-bzlh8",
    "outputId": "642b0a9f-8511-4cbd-88f8-a7b9b8e082a3"
   },
   "outputs": [
    {
     "data": {
      "text/html": [
       "<div>\n",
       "<style scoped>\n",
       "    .dataframe tbody tr th:only-of-type {\n",
       "        vertical-align: middle;\n",
       "    }\n",
       "\n",
       "    .dataframe tbody tr th {\n",
       "        vertical-align: top;\n",
       "    }\n",
       "\n",
       "    .dataframe thead th {\n",
       "        text-align: right;\n",
       "    }\n",
       "</style>\n",
       "<table border=\"1\" class=\"dataframe\">\n",
       "  <thead>\n",
       "    <tr style=\"text-align: right;\">\n",
       "      <th></th>\n",
       "      <th>post_id</th>\n",
       "      <th>DistanceToCluster_0</th>\n",
       "      <th>DistanceToCluster_1</th>\n",
       "      <th>DistanceToCluster_2</th>\n",
       "      <th>DistanceToCluster_3</th>\n",
       "      <th>DistanceToCluster_4</th>\n",
       "      <th>DistanceToCluster_5</th>\n",
       "      <th>DistanceToCluster_6</th>\n",
       "      <th>DistanceToCluster_7</th>\n",
       "      <th>DistanceToCluster_8</th>\n",
       "      <th>...</th>\n",
       "      <th>DistanceTo12thCluster</th>\n",
       "      <th>DistanceTo13thCluster</th>\n",
       "      <th>DistanceTo14thCluster</th>\n",
       "      <th>tf_idf_cluster</th>\n",
       "      <th>covid</th>\n",
       "      <th>entertainment</th>\n",
       "      <th>movie</th>\n",
       "      <th>politics</th>\n",
       "      <th>sport</th>\n",
       "      <th>tech</th>\n",
       "    </tr>\n",
       "  </thead>\n",
       "  <tbody>\n",
       "    <tr>\n",
       "      <th>0</th>\n",
       "      <td>1</td>\n",
       "      <td>4.885947</td>\n",
       "      <td>4.013694</td>\n",
       "      <td>5.337161</td>\n",
       "      <td>3.430961</td>\n",
       "      <td>3.240476</td>\n",
       "      <td>4.209159</td>\n",
       "      <td>2.816814</td>\n",
       "      <td>4.347605</td>\n",
       "      <td>4.109518</td>\n",
       "      <td>...</td>\n",
       "      <td>0.429785</td>\n",
       "      <td>0.153237</td>\n",
       "      <td>0.466340</td>\n",
       "      <td>13</td>\n",
       "      <td>0</td>\n",
       "      <td>0</td>\n",
       "      <td>0</td>\n",
       "      <td>0</td>\n",
       "      <td>0</td>\n",
       "      <td>0</td>\n",
       "    </tr>\n",
       "    <tr>\n",
       "      <th>1</th>\n",
       "      <td>2</td>\n",
       "      <td>7.365650</td>\n",
       "      <td>3.020405</td>\n",
       "      <td>7.915510</td>\n",
       "      <td>3.825038</td>\n",
       "      <td>4.929397</td>\n",
       "      <td>3.662909</td>\n",
       "      <td>4.059135</td>\n",
       "      <td>3.593085</td>\n",
       "      <td>1.825140</td>\n",
       "      <td>...</td>\n",
       "      <td>0.311248</td>\n",
       "      <td>0.450197</td>\n",
       "      <td>0.302953</td>\n",
       "      <td>14</td>\n",
       "      <td>0</td>\n",
       "      <td>0</td>\n",
       "      <td>0</td>\n",
       "      <td>0</td>\n",
       "      <td>0</td>\n",
       "      <td>0</td>\n",
       "    </tr>\n",
       "    <tr>\n",
       "      <th>2</th>\n",
       "      <td>3</td>\n",
       "      <td>6.284945</td>\n",
       "      <td>2.226304</td>\n",
       "      <td>6.896920</td>\n",
       "      <td>4.518049</td>\n",
       "      <td>4.645065</td>\n",
       "      <td>2.784708</td>\n",
       "      <td>4.887888</td>\n",
       "      <td>5.230785</td>\n",
       "      <td>3.577348</td>\n",
       "      <td>...</td>\n",
       "      <td>0.235805</td>\n",
       "      <td>0.356460</td>\n",
       "      <td>0.390229</td>\n",
       "      <td>12</td>\n",
       "      <td>0</td>\n",
       "      <td>0</td>\n",
       "      <td>0</td>\n",
       "      <td>0</td>\n",
       "      <td>0</td>\n",
       "      <td>0</td>\n",
       "    </tr>\n",
       "    <tr>\n",
       "      <th>3</th>\n",
       "      <td>4</td>\n",
       "      <td>6.395127</td>\n",
       "      <td>4.953006</td>\n",
       "      <td>6.260554</td>\n",
       "      <td>3.058060</td>\n",
       "      <td>4.296948</td>\n",
       "      <td>5.105387</td>\n",
       "      <td>2.023567</td>\n",
       "      <td>2.815803</td>\n",
       "      <td>4.225357</td>\n",
       "      <td>...</td>\n",
       "      <td>0.291078</td>\n",
       "      <td>0.478927</td>\n",
       "      <td>0.402043</td>\n",
       "      <td>12</td>\n",
       "      <td>0</td>\n",
       "      <td>0</td>\n",
       "      <td>0</td>\n",
       "      <td>0</td>\n",
       "      <td>0</td>\n",
       "      <td>0</td>\n",
       "    </tr>\n",
       "    <tr>\n",
       "      <th>4</th>\n",
       "      <td>5</td>\n",
       "      <td>4.295673</td>\n",
       "      <td>3.721398</td>\n",
       "      <td>4.691410</td>\n",
       "      <td>2.452093</td>\n",
       "      <td>2.493927</td>\n",
       "      <td>3.529050</td>\n",
       "      <td>2.841935</td>\n",
       "      <td>4.032390</td>\n",
       "      <td>3.755685</td>\n",
       "      <td>...</td>\n",
       "      <td>0.165289</td>\n",
       "      <td>0.390245</td>\n",
       "      <td>0.230778</td>\n",
       "      <td>8</td>\n",
       "      <td>0</td>\n",
       "      <td>0</td>\n",
       "      <td>0</td>\n",
       "      <td>0</td>\n",
       "      <td>0</td>\n",
       "      <td>0</td>\n",
       "    </tr>\n",
       "  </tbody>\n",
       "</table>\n",
       "<p>5 rows × 40 columns</p>\n",
       "</div>"
      ],
      "text/plain": [
       "   post_id  DistanceToCluster_0  DistanceToCluster_1  DistanceToCluster_2  \\\n",
       "0        1             4.885947             4.013694             5.337161   \n",
       "1        2             7.365650             3.020405             7.915510   \n",
       "2        3             6.284945             2.226304             6.896920   \n",
       "3        4             6.395127             4.953006             6.260554   \n",
       "4        5             4.295673             3.721398             4.691410   \n",
       "\n",
       "   DistanceToCluster_3  DistanceToCluster_4  DistanceToCluster_5  \\\n",
       "0             3.430961             3.240476             4.209159   \n",
       "1             3.825038             4.929397             3.662909   \n",
       "2             4.518049             4.645065             2.784708   \n",
       "3             3.058060             4.296948             5.105387   \n",
       "4             2.452093             2.493927             3.529050   \n",
       "\n",
       "   DistanceToCluster_6  DistanceToCluster_7  DistanceToCluster_8  ...  \\\n",
       "0             2.816814             4.347605             4.109518  ...   \n",
       "1             4.059135             3.593085             1.825140  ...   \n",
       "2             4.887888             5.230785             3.577348  ...   \n",
       "3             2.023567             2.815803             4.225357  ...   \n",
       "4             2.841935             4.032390             3.755685  ...   \n",
       "\n",
       "   DistanceTo12thCluster  DistanceTo13thCluster  DistanceTo14thCluster  \\\n",
       "0               0.429785               0.153237               0.466340   \n",
       "1               0.311248               0.450197               0.302953   \n",
       "2               0.235805               0.356460               0.390229   \n",
       "3               0.291078               0.478927               0.402043   \n",
       "4               0.165289               0.390245               0.230778   \n",
       "\n",
       "   tf_idf_cluster  covid  entertainment  movie  politics  sport  tech  \n",
       "0              13      0              0      0         0      0     0  \n",
       "1              14      0              0      0         0      0     0  \n",
       "2              12      0              0      0         0      0     0  \n",
       "3              12      0              0      0         0      0     0  \n",
       "4               8      0              0      0         0      0     0  \n",
       "\n",
       "[5 rows x 40 columns]"
      ]
     },
     "execution_count": 27,
     "metadata": {},
     "output_type": "execute_result"
    }
   ],
   "source": [
    "posts_processed = pd.concat((posts_df['id'],\n",
    "                             dists_df, # кластеризованные ебединги\n",
    "                             features_from_tfidf, # кластеризованные tf-idf\n",
    "                             one_hot_topics),\n",
    "                            axis=1)\n",
    "\n",
    "posts_processed.rename(columns={'id':'post_id'}, inplace=True)\n",
    "posts_processed.head()"
   ]
  },
  {
   "cell_type": "code",
   "execution_count": null,
   "id": "y4RT0AaMcIJD",
   "metadata": {
    "execution": {
     "iopub.execute_input": "2023-05-22T21:17:29.596763Z",
     "iopub.status.busy": "2023-05-22T21:17:29.595952Z",
     "iopub.status.idle": "2023-05-22T21:17:31.399474Z",
     "shell.execute_reply": "2023-05-22T21:17:31.398362Z",
     "shell.execute_reply.started": "2023-05-22T21:17:29.596704Z"
    },
    "id": "y4RT0AaMcIJD"
   },
   "outputs": [],
   "source": [
    "# создаем датафрейм для обучения\n",
    "concat_df = feed_processed.merge(user_processed, how='inner', on='user_id')\n",
    "concat_df = concat_df.merge(posts_processed, how='inner', on='post_id')\n"
   ]
  },
  {
   "cell_type": "code",
   "execution_count": null,
   "id": "aFeSiSZn1tL7",
   "metadata": {
    "colab": {
     "base_uri": "https://localhost:8080/",
     "height": 317
    },
    "execution": {
     "iopub.execute_input": "2023-05-22T21:17:31.402021Z",
     "iopub.status.busy": "2023-05-22T21:17:31.400939Z",
     "iopub.status.idle": "2023-05-22T21:17:31.427162Z",
     "shell.execute_reply": "2023-05-22T21:17:31.425977Z",
     "shell.execute_reply.started": "2023-05-22T21:17:31.401981Z"
    },
    "id": "aFeSiSZn1tL7",
    "outputId": "5d86304e-4316-499b-8e87-df52651dac67"
   },
   "outputs": [
    {
     "name": "stdout",
     "output_type": "stream",
     "text": [
      "(2625384, 58)\n"
     ]
    },
    {
     "data": {
      "text/html": [
       "<div>\n",
       "<style scoped>\n",
       "    .dataframe tbody tr th:only-of-type {\n",
       "        vertical-align: middle;\n",
       "    }\n",
       "\n",
       "    .dataframe tbody tr th {\n",
       "        vertical-align: top;\n",
       "    }\n",
       "\n",
       "    .dataframe thead th {\n",
       "        text-align: right;\n",
       "    }\n",
       "</style>\n",
       "<table border=\"1\" class=\"dataframe\">\n",
       "  <thead>\n",
       "    <tr style=\"text-align: right;\">\n",
       "      <th></th>\n",
       "      <th>user_id</th>\n",
       "      <th>post_id</th>\n",
       "      <th>target</th>\n",
       "      <th>gender</th>\n",
       "      <th>age</th>\n",
       "      <th>city</th>\n",
       "      <th>exp_group</th>\n",
       "      <th>Belarus</th>\n",
       "      <th>Cyprus</th>\n",
       "      <th>Estonia</th>\n",
       "      <th>...</th>\n",
       "      <th>DistanceTo12thCluster</th>\n",
       "      <th>DistanceTo13thCluster</th>\n",
       "      <th>DistanceTo14thCluster</th>\n",
       "      <th>tf_idf_cluster</th>\n",
       "      <th>covid</th>\n",
       "      <th>entertainment</th>\n",
       "      <th>movie</th>\n",
       "      <th>politics</th>\n",
       "      <th>sport</th>\n",
       "      <th>tech</th>\n",
       "    </tr>\n",
       "  </thead>\n",
       "  <tbody>\n",
       "    <tr>\n",
       "      <th>0</th>\n",
       "      <td>3778</td>\n",
       "      <td>34</td>\n",
       "      <td>0</td>\n",
       "      <td>0</td>\n",
       "      <td>25</td>\n",
       "      <td>1524</td>\n",
       "      <td>2</td>\n",
       "      <td>0</td>\n",
       "      <td>0</td>\n",
       "      <td>0</td>\n",
       "      <td>...</td>\n",
       "      <td>0.365419</td>\n",
       "      <td>0.332584</td>\n",
       "      <td>0.329305</td>\n",
       "      <td>14</td>\n",
       "      <td>0</td>\n",
       "      <td>0</td>\n",
       "      <td>0</td>\n",
       "      <td>0</td>\n",
       "      <td>0</td>\n",
       "      <td>0</td>\n",
       "    </tr>\n",
       "    <tr>\n",
       "      <th>1</th>\n",
       "      <td>3853</td>\n",
       "      <td>34</td>\n",
       "      <td>0</td>\n",
       "      <td>0</td>\n",
       "      <td>26</td>\n",
       "      <td>2683</td>\n",
       "      <td>4</td>\n",
       "      <td>0</td>\n",
       "      <td>0</td>\n",
       "      <td>0</td>\n",
       "      <td>...</td>\n",
       "      <td>0.365419</td>\n",
       "      <td>0.332584</td>\n",
       "      <td>0.329305</td>\n",
       "      <td>14</td>\n",
       "      <td>0</td>\n",
       "      <td>0</td>\n",
       "      <td>0</td>\n",
       "      <td>0</td>\n",
       "      <td>0</td>\n",
       "      <td>0</td>\n",
       "    </tr>\n",
       "    <tr>\n",
       "      <th>2</th>\n",
       "      <td>3885</td>\n",
       "      <td>34</td>\n",
       "      <td>1</td>\n",
       "      <td>1</td>\n",
       "      <td>25</td>\n",
       "      <td>1642</td>\n",
       "      <td>1</td>\n",
       "      <td>0</td>\n",
       "      <td>0</td>\n",
       "      <td>0</td>\n",
       "      <td>...</td>\n",
       "      <td>0.365419</td>\n",
       "      <td>0.332584</td>\n",
       "      <td>0.329305</td>\n",
       "      <td>14</td>\n",
       "      <td>0</td>\n",
       "      <td>0</td>\n",
       "      <td>0</td>\n",
       "      <td>0</td>\n",
       "      <td>0</td>\n",
       "      <td>0</td>\n",
       "    </tr>\n",
       "    <tr>\n",
       "      <th>3</th>\n",
       "      <td>3916</td>\n",
       "      <td>34</td>\n",
       "      <td>0</td>\n",
       "      <td>1</td>\n",
       "      <td>25</td>\n",
       "      <td>2703</td>\n",
       "      <td>2</td>\n",
       "      <td>0</td>\n",
       "      <td>0</td>\n",
       "      <td>0</td>\n",
       "      <td>...</td>\n",
       "      <td>0.365419</td>\n",
       "      <td>0.332584</td>\n",
       "      <td>0.329305</td>\n",
       "      <td>14</td>\n",
       "      <td>0</td>\n",
       "      <td>0</td>\n",
       "      <td>0</td>\n",
       "      <td>0</td>\n",
       "      <td>0</td>\n",
       "      <td>0</td>\n",
       "    </tr>\n",
       "    <tr>\n",
       "      <th>4</th>\n",
       "      <td>4152</td>\n",
       "      <td>34</td>\n",
       "      <td>0</td>\n",
       "      <td>0</td>\n",
       "      <td>20</td>\n",
       "      <td>3427</td>\n",
       "      <td>2</td>\n",
       "      <td>0</td>\n",
       "      <td>0</td>\n",
       "      <td>0</td>\n",
       "      <td>...</td>\n",
       "      <td>0.365419</td>\n",
       "      <td>0.332584</td>\n",
       "      <td>0.329305</td>\n",
       "      <td>14</td>\n",
       "      <td>0</td>\n",
       "      <td>0</td>\n",
       "      <td>0</td>\n",
       "      <td>0</td>\n",
       "      <td>0</td>\n",
       "      <td>0</td>\n",
       "    </tr>\n",
       "  </tbody>\n",
       "</table>\n",
       "<p>5 rows × 58 columns</p>\n",
       "</div>"
      ],
      "text/plain": [
       "   user_id  post_id  target  gender  age  city  exp_group  Belarus  Cyprus  \\\n",
       "0     3778       34       0       0   25  1524          2        0       0   \n",
       "1     3853       34       0       0   26  2683          4        0       0   \n",
       "2     3885       34       1       1   25  1642          1        0       0   \n",
       "3     3916       34       0       1   25  2703          2        0       0   \n",
       "4     4152       34       0       0   20  3427          2        0       0   \n",
       "\n",
       "   Estonia  ...  DistanceTo12thCluster  DistanceTo13thCluster  \\\n",
       "0        0  ...               0.365419               0.332584   \n",
       "1        0  ...               0.365419               0.332584   \n",
       "2        0  ...               0.365419               0.332584   \n",
       "3        0  ...               0.365419               0.332584   \n",
       "4        0  ...               0.365419               0.332584   \n",
       "\n",
       "   DistanceTo14thCluster  tf_idf_cluster  covid  entertainment  movie  \\\n",
       "0               0.329305              14      0              0      0   \n",
       "1               0.329305              14      0              0      0   \n",
       "2               0.329305              14      0              0      0   \n",
       "3               0.329305              14      0              0      0   \n",
       "4               0.329305              14      0              0      0   \n",
       "\n",
       "   politics  sport  tech  \n",
       "0         0      0     0  \n",
       "1         0      0     0  \n",
       "2         0      0     0  \n",
       "3         0      0     0  \n",
       "4         0      0     0  \n",
       "\n",
       "[5 rows x 58 columns]"
      ]
     },
     "execution_count": 29,
     "metadata": {},
     "output_type": "execute_result"
    }
   ],
   "source": [
    "print(concat_df.shape)\n",
    "concat_df.head()"
   ]
  },
  {
   "cell_type": "code",
   "execution_count": null,
   "id": "NnMPaxTyiwoh",
   "metadata": {
    "execution": {
     "iopub.execute_input": "2023-05-22T21:17:31.429585Z",
     "iopub.status.busy": "2023-05-22T21:17:31.428874Z",
     "iopub.status.idle": "2023-05-22T21:17:32.312834Z",
     "shell.execute_reply": "2023-05-22T21:17:32.311660Z",
     "shell.execute_reply.started": "2023-05-22T21:17:31.429542Z"
    },
    "id": "NnMPaxTyiwoh"
   },
   "outputs": [],
   "source": [
    "from catboost import CatBoostClassifier\n",
    "\n",
    "\n",
    "X = concat_df.drop(['user_id', 'post_id', 'target'], axis=1)\n",
    "y = concat_df['target']\n",
    "\n",
    "test_size = 0.25\n",
    "train_size = int(X.shape[0] - (X.shape[0] * test_size))\n",
    "\n",
    "X_train, X_test = X[:train_size], X[train_size:] \n",
    "y_train, y_test = y[:train_size], y[train_size:]\n",
    "\n",
    "cat_columns = ['city','exp_group', 'dbscan_clusters', 'kmeans_clusters']\n"
   ]
  },
  {
   "cell_type": "code",
   "execution_count": null,
   "id": "0FeFunD_mHK-",
   "metadata": {
    "execution": {
     "iopub.execute_input": "2023-05-22T21:26:43.865989Z",
     "iopub.status.busy": "2023-05-22T21:26:43.865218Z",
     "iopub.status.idle": "2023-05-22T21:26:43.873532Z",
     "shell.execute_reply": "2023-05-22T21:26:43.872291Z",
     "shell.execute_reply.started": "2023-05-22T21:26:43.865949Z"
    },
    "id": "0FeFunD_mHK-"
   },
   "outputs": [],
   "source": [
    "\n",
    "# test_catboost = CatBoostClassifier(\n",
    "#     learning_rate=0.95,\n",
    "#     depth=2,\n",
    "#     random_seed=132,\n",
    "#     thread_count=-1,\n",
    "#     task_type=\"GPU\"\n",
    "# )\n",
    "\n",
    "# test_catboost.fit(X_train, y_train, \n",
    "#                      cat_features=cat_columns,\n",
    "#                      verbose=True,\n",
    "#                      eval_set=(X_test, y_test))\n"
   ]
  },
  {
   "cell_type": "code",
   "execution_count": null,
   "id": "UWs1Aw21XKEv",
   "metadata": {
    "colab": {
     "base_uri": "https://localhost:8080/"
    },
    "execution": {
     "iopub.execute_input": "2023-05-22T21:25:05.937619Z",
     "iopub.status.busy": "2023-05-22T21:25:05.936857Z",
     "iopub.status.idle": "2023-05-22T21:25:38.205306Z",
     "shell.execute_reply": "2023-05-22T21:25:38.203959Z",
     "shell.execute_reply.started": "2023-05-22T21:25:05.937576Z"
    },
    "id": "UWs1Aw21XKEv",
    "outputId": "8d8f8ecf-c807-4ddf-94d6-9a4d848dfae5"
   },
   "outputs": [
    {
     "name": "stdout",
     "output_type": "stream",
     "text": [
      "Hitrate тестовой модели : 0.5272628135223555\n"
     ]
    }
   ],
   "source": [
    "hitrate = np.mean(get_hitrate(test_catboost))\n",
    "print(f'Hitrate тестовой модели : {hitrate}')"
   ]
  },
  {
   "cell_type": "code",
   "execution_count": null,
   "id": "CVjvIcD84qvt",
   "metadata": {
    "colab": {
     "base_uri": "https://localhost:8080/",
     "height": 718
    },
    "execution": {
     "iopub.execute_input": "2023-05-22T21:25:38.207534Z",
     "iopub.status.busy": "2023-05-22T21:25:38.206936Z",
     "iopub.status.idle": "2023-05-22T21:25:39.472462Z",
     "shell.execute_reply": "2023-05-22T21:25:39.471147Z",
     "shell.execute_reply.started": "2023-05-22T21:25:38.207489Z"
    },
    "id": "CVjvIcD84qvt",
    "outputId": "6786b39e-e15f-45de-a40b-c5392efc1f12"
   },
   "outputs": [
    {
     "data": {
      "image/png": "[encoded data removed]",
      "text/plain": [
       "<Figure size 1000x800 with 1 Axes>"
      ]
     },
     "metadata": {},
     "output_type": "display_data"
    }
   ],
   "source": [
    "\n",
    "plot_feature_importance(test_catboost.feature_importances_,X_train.columns,'TEST Catboost')"
   ]
  },
  {
   "cell_type": "code",
   "execution_count": null,
   "id": "I-0UPHLbXhyQ",
   "metadata": {
    "execution": {
     "iopub.execute_input": "2023-05-22T21:26:21.516990Z",
     "iopub.status.busy": "2023-05-22T21:26:21.516198Z",
     "iopub.status.idle": "2023-05-22T21:26:21.535909Z",
     "shell.execute_reply": "2023-05-22T21:26:21.534682Z",
     "shell.execute_reply.started": "2023-05-22T21:26:21.516947Z"
    },
    "id": "I-0UPHLbXhyQ"
   },
   "outputs": [],
   "source": [
    "test_catboost.save_model(\n",
    "    'test_catboost',\n",
    "    format=\"cbm\"                  \n",
    ")"
   ]
  }
 ],
 "metadata": {
  "accelerator": "GPU",
  "colab": {
   "gpuType": "T4",
   "provenance": []
  },
  "gpuClass": "standard",
  "kernelspec": {
   "display_name": "Python 3 (ipykernel)",
   "language": "python",
   "name": "python3"
  },
  "language_info": {
   "codemirror_mode": {
    "name": "ipython",
    "version": 3
   },
   "file_extension": ".py",
   "mimetype": "text/x-python",
   "name": "python",
   "nbconvert_exporter": "python",
   "pygments_lexer": "ipython3",
   "version": "3.10.10"
  }
 },
 "nbformat": 4,
 "nbformat_minor": 5
}
